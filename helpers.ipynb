{
 "cells": [
  {
   "cell_type": "code",
   "execution_count": 5,
   "metadata": {},
   "outputs": [],
   "source": [
    "import re\n",
    "import numpy as np\n",
    "import nltk\n",
    "from sklearn.metrics.pairwise import cosine_similarity\n",
    "\n",
    "english_stemmer = nltk.stem.SnowballStemmer('english')\n",
    "token_pattern = r\"(?u)\\b\\w\\w+\\b\"\n",
    "stopwords = set(nltk.corpus.stopwords.words('english'))\n",
    "\n",
    "\n",
    "def stem_tokens(tokens, stemmer):\n",
    "    stemmed = []\n",
    "    for token in tokens:\n",
    "        stemmed.append(stemmer.stem(token))\n",
    "    return stemmed\n",
    "\n",
    "\n",
    "def preprocess_data(line,\n",
    "                    token_pattern=token_pattern,\n",
    "                    exclude_stopword=True,\n",
    "                    stem=True):\n",
    "    token_pattern = re.compile(token_pattern, flags = re.UNICODE)\n",
    "    tokens = [x.lower() for x in token_pattern.findall(line)]\n",
    "    tokens_stemmed = tokens\n",
    "    if stem:\n",
    "        tokens_stemmed = stem_tokens(tokens, english_stemmer)\n",
    "    if exclude_stopword:\n",
    "        tokens_stemmed = [x for x in tokens_stemmed if x not in stopwords]\n",
    "\n",
    "    return tokens_stemmed\n",
    "\n",
    "\n",
    "def try_divide(x, y, val=0.0):\n",
    "    \"\"\" \n",
    "        Try to divide two numbers\n",
    "    \"\"\"\n",
    "    if y != 0.0:\n",
    "        val = float(x) / y\n",
    "    return val\n",
    "\n",
    "\n",
    "def cosine_sim(x, y):\n",
    "    try:\n",
    "        if type(x) is np.ndarray: x = x.reshape(1, -1) # get rid of the warning\n",
    "        if type(y) is np.ndarray: y = y.reshape(1, -1)\n",
    "        d = cosine_similarity(x, y)\n",
    "        d = d[0][0]\n",
    "    except:\n",
    "        print(x)\n",
    "        print(y)\n",
    "        d = 0.\n",
    "    return d\n"
   ]
  },
  {
   "cell_type": "code",
   "execution_count": null,
   "metadata": {},
   "outputs": [],
   "source": []
  }
 ],
 "metadata": {
  "kernelspec": {
   "display_name": "Python 3",
   "language": "python",
   "name": "python3"
  },
  "language_info": {
   "codemirror_mode": {
    "name": "ipython",
    "version": 3
   },
   "file_extension": ".py",
   "mimetype": "text/x-python",
   "name": "python",
   "nbconvert_exporter": "python",
   "pygments_lexer": "ipython3",
   "version": "3.6.4"
  }
 },
 "nbformat": 4,
 "nbformat_minor": 2
}
