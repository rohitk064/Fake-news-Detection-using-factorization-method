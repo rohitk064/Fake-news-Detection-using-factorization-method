{
 "cells": [
  {
   "cell_type": "code",
   "execution_count": 1,
   "metadata": {},
   "outputs": [],
   "source": [
    "'''\n",
    "    super class of various feature generators\n",
    "'''\n",
    "\n",
    "class FeatureGenerator(object):\n",
    "\n",
    "    def __init__(self, name):\n",
    "        self._name = name\n",
    "    \n",
    "    def name(self):\n",
    "        return self._name\n",
    "\n",
    "    def process(self, data, header):\n",
    "        '''\n",
    "            input:\n",
    "                data: pandas dataframe\n",
    "            generate features and save them into a pickle file\n",
    "        '''\n",
    "        pass\n",
    "\n",
    "    def read(self, header):\n",
    "        '''\n",
    "            read the feature matrix from a pickle file\n",
    "        '''\n",
    "pass"
   ]
  },
  {
   "cell_type": "code",
   "execution_count": null,
   "metadata": {},
   "outputs": [],
   "source": []
  }
 ],
 "metadata": {
  "kernelspec": {
   "display_name": "Python 3",
   "language": "python",
   "name": "python3"
  },
  "language_info": {
   "codemirror_mode": {
    "name": "ipython",
    "version": 3
   },
   "file_extension": ".py",
   "mimetype": "text/x-python",
   "name": "python",
   "nbconvert_exporter": "python",
   "pygments_lexer": "ipython3",
   "version": "3.6.4"
  }
 },
 "nbformat": 4,
 "nbformat_minor": 2
}
